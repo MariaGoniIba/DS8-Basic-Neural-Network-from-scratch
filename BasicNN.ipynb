{
 "cells": [
  {
   "cell_type": "markdown",
   "metadata": {},
   "source": [
    "# Basic Neural Network"
   ]
  },
  {
   "cell_type": "markdown",
   "metadata": {},
   "source": [
    "### Import libraries"
   ]
  },
  {
   "cell_type": "code",
   "execution_count": 4,
   "metadata": {
    "collapsed": false
   },
   "outputs": [],
   "source": [
    "import numpy as np\n",
    "\n",
    "import matplotlib.pyplot as plt\n",
    "from mpl_toolkits.mplot3d import Axes3D"
   ]
  },
  {
   "cell_type": "markdown",
   "metadata": {},
   "source": [
    "### Generate random input data to train on"
   ]
  },
  {
   "cell_type": "code",
   "execution_count": 5,
   "metadata": {
    "collapsed": false,
    "scrolled": false
   },
   "outputs": [
    {
     "name": "stdout",
     "output_type": "stream",
     "text": [
      "(1000, 2)\n"
     ]
    }
   ],
   "source": [
    "# Define size of the training set\n",
    "observations = 1000\n",
    "\n",
    "# We define 2 inputs, x and z. We generate them randomly, following an uniform distribution.\n",
    "xs = np.random.uniform(low=-10, high=10, size=(observations,1))\n",
    "zs = np.random.uniform(-10, 10, (observations,1))\n",
    "\n",
    "# We combine them into a matrix, which will be the x matrix from the linear model y = x*w + b.\n",
    "inputs = np.column_stack((xs,zs))\n",
    "\n",
    "# 0Check if the dimensions of the inputs are n x k (number of observations x number of variables)\n",
    "print (inputs.shape)"
   ]
  },
  {
   "cell_type": "markdown",
   "metadata": {},
   "source": [
    "### Generate the targets we will aim at"
   ]
  },
  {
   "cell_type": "code",
   "execution_count": 6,
   "metadata": {
    "collapsed": false
   },
   "outputs": [
    {
     "name": "stdout",
     "output_type": "stream",
     "text": [
      "(1000, 1)\n"
     ]
    }
   ],
   "source": [
    "# We make up a function, use the ML methodology, and see if the algorithm has learned it.\n",
    "# We add a small random noise to the function i.e. f(x,z) = 2x - 3z + 5 + <small noise>\n",
    "noise = np.random.uniform(-1, 1, (observations,1))\n",
    "\n",
    "# Produce the targets according to the f(x,z) = 2x - 3z + 5 + noise definition.\n",
    "targets = 2*xs - 3*zs + 5 + noise\n",
    "\n",
    "# Check that the shape of the targets is n x m (number of output variables x 1)\n",
    "print (targets.shape)"
   ]
  },
  {
   "cell_type": "markdown",
   "metadata": {},
   "source": [
    "### Plot training data\n",
    "The point is to see that there is a strong trend that our model should learn to reproduce."
   ]
  },
  {
   "cell_type": "code",
   "execution_count": 7,
   "metadata": {
    "collapsed": false
   },
   "outputs": [
    {
     "data": {
      "image/png": "[encoded data removed]",
      "text/plain": [
       "<Figure size 432x288 with 1 Axes>"
      ]
     },
     "metadata": {
      "needs_background": "light"
     },
     "output_type": "display_data"
    }
   ],
   "source": [
    "# To use the 3D plot, the objects should have a certain shape\n",
    "targets = targets.reshape(observations,)\n",
    "\n",
    "xs = xs.reshape(observations,)\n",
    "zs = zs.reshape(observations,)\n",
    "\n",
    "# Declare the figure\n",
    "fig = plt.figure()\n",
    "\n",
    "# This method allows us to create the 3D plot\n",
    "ax = fig.add_subplot(111, projection='3d')\n",
    "\n",
    "# Choose axes\n",
    "ax.plot(xs, zs, targets)\n",
    "\n",
    "# Set labels\n",
    "ax.set_xlabel('xs')\n",
    "ax.set_ylabel('zs')\n",
    "ax.set_zlabel('Targets')\n",
    "\n",
    "# Set up the azim parameter to plot the data from different angles\n",
    "ax.view_init(azim=100)\n",
    "\n",
    "# Show plot \n",
    "plt.show()\n",
    "\n",
    "# Reshape back to the shape before plotting\n",
    "targets = targets.reshape(observations,1)\n",
    "\n",
    "xs = xs.reshape(observations,1)\n",
    "zs = zs.reshape(observations,1)"
   ]
  },
  {
   "cell_type": "markdown",
   "metadata": {},
   "source": [
    "### Initialize variables"
   ]
  },
  {
   "cell_type": "code",
   "execution_count": 8,
   "metadata": {
    "collapsed": false
   },
   "outputs": [
    {
     "name": "stdout",
     "output_type": "stream",
     "text": [
      "[[-0.011534 ]\n",
      " [-0.0525555]]\n",
      "[0.0703431]\n"
     ]
    }
   ],
   "source": [
    "# We will initialize the weights and biases randomly in some small initial range.\n",
    "init_range = 0.1\n",
    "\n",
    "# Weights are of size k x m (number of input variables x number of output variables)\n",
    "# In our case, the weights matrix is 2x1 since there are 2 inputs (x and z) and one output (y)\n",
    "weights = np.random.uniform(low=-init_range, high=init_range, size=(2, 1))\n",
    "\n",
    "# Biases are of size 1 since there is only 1 output. The bias is a scalar.\n",
    "biases = np.random.uniform(low=-init_range, high=init_range, size=1)\n",
    "\n",
    "#Print the weights to get a sense of how they were initialized.\n",
    "print (weights)\n",
    "print (biases)"
   ]
  },
  {
   "cell_type": "markdown",
   "metadata": {},
   "source": [
    "### Set a learning rate"
   ]
  },
  {
   "cell_type": "code",
   "execution_count": 9,
   "metadata": {
    "collapsed": false
   },
   "outputs": [],
   "source": [
    "# Set some small learning rate (eta).\n",
    "learning_rate = 0.02"
   ]
  },
  {
   "cell_type": "markdown",
   "metadata": {},
   "source": [
    "### Train the model"
   ]
  },
  {
   "cell_type": "code",
   "execution_count": 10,
   "metadata": {
    "collapsed": false,
    "scrolled": true
   },
   "outputs": [
    {
     "name": "stdout",
     "output_type": "stream",
     "text": [
      "209.22479248774303\n",
      "36.94999908183997\n",
      "14.756563803344456\n",
      "11.55498248935155\n",
      "10.773938681971647\n",
      "10.314603416770696\n",
      "9.910272617813115\n",
      "9.52653211870297\n",
      "9.158474078866671\n",
      "8.804960757111486\n",
      "8.465354045970773\n",
      "8.139098815418913\n",
      "7.8256691302142665\n",
      "7.524560669358898\n",
      "7.235289056887523\n",
      "6.95738897335688\n",
      "6.690413393398677\n",
      "6.433932864864397\n",
      "6.187534817789438\n",
      "5.950822900711549\n",
      "5.723416343103323\n",
      "5.504949342871098\n",
      "5.295070477932235\n",
      "5.093442140923895\n",
      "4.899739996133891\n",
      "4.713652457780116\n",
      "4.534880188799255\n",
      "4.3631356193385855\n",
      "4.1981424841762855\n",
      "4.039635378326165\n",
      "3.8873593301119955\n",
      "3.741069391024662\n",
      "3.600530241702395\n",
      "3.465515813400286\n",
      "3.335808924340182\n",
      "3.2112009303559725\n",
      "3.0914913892723543\n",
      "2.976487738477158\n",
      "2.866004985168584\n",
      "2.759865408779128\n",
      "2.6578982750974682\n",
      "2.559939561628491\n",
      "2.4658316937496543\n",
      "2.3754232912392927\n",
      "2.2885689247691148\n",
      "2.2051288819692054\n",
      "2.1249689426892235\n",
      "2.047960163094288\n",
      "1.9739786682482394\n",
      "1.9029054528506553\n",
      "1.8346261898070684\n",
      "1.7690310463244496\n",
      "1.7060145072361679\n",
      "1.645475205272188\n",
      "1.5873157580015\n",
      "1.5314426111845074\n",
      "1.4777658882833484\n",
      "1.426199245888121\n",
      "1.3766597348264331\n",
      "1.3290676667328485\n",
      "1.283346485863624\n",
      "1.239422645950516\n",
      "1.1972254918955794\n",
      "1.1566871461166461\n",
      "1.1177423993606699\n",
      "1.080328605809301\n",
      "1.0443855823079418\n",
      "1.0098555115562162\n",
      "0.9766828491040966\n",
      "0.9448142340041049\n",
      "0.9141984029758496\n",
      "0.8847861079448377\n",
      "0.8565300368229125\n",
      "0.8293847374028738\n",
      "0.8033065442448802\n",
      "0.7782535084370107\n",
      "0.7541853301169933\n",
      "0.7310632936465811\n",
      "0.7088502053342659\n",
      "0.6875103336061797\n",
      "0.6670093515289279\n",
      "0.6473142815919054\n",
      "0.6283934426602599\n",
      "0.610216399013192\n",
      "0.592753911385609\n",
      "0.5759778899343594\n",
      "0.5598613490534224\n",
      "0.5443783639653486\n",
      "0.5295040290191282\n",
      "0.5152144176274083\n",
      "0.5014865437786183\n",
      "0.48829832506208354\n",
      "0.4756285471466573\n",
      "0.46345682965572915\n",
      "0.45176359338372046\n",
      "0.44053002880132397\n",
      "0.4297380657988356\n",
      "0.41937034461890144\n",
      "0.40941018793192235\n",
      "0.3998415740092057\n"
     ]
    }
   ],
   "source": [
    "# We iterate over our training dataset 100 times. That works well with a learning rate of 0.02.\n",
    "for i in range (100):\n",
    "    \n",
    "    # Linear model equation: y = xw + b\n",
    "    outputs = np.dot(inputs,weights) + biases\n",
    "    # Deltas are the differences between the outputs and the targets\n",
    "    deltas = outputs - targets\n",
    "        \n",
    "    # We are considering the L2-norm loss\n",
    "    loss = np.sum(deltas ** 2) / 2 / observations\n",
    "    \n",
    "    # Print the loss function value at each step so we can observe whether it is decreasing\n",
    "    print (loss)\n",
    "    \n",
    "    # We scale the deltas the same way as the loss function. This way, the learning rate is independent of the number of samples (observations).\n",
    "    deltas_scaled = deltas / observations\n",
    "    \n",
    "    # We apply the gradient descent update rules\n",
    "    weights = weights - learning_rate * np.dot(inputs.T,deltas_scaled)\n",
    "    biases = biases - learning_rate * np.sum(deltas_scaled)"
   ]
  },
  {
   "cell_type": "markdown",
   "metadata": {},
   "source": [
    "### Print weights and biases and see if we have worked correctly."
   ]
  },
  {
   "cell_type": "code",
   "execution_count": 11,
   "metadata": {
    "collapsed": false
   },
   "outputs": [
    {
     "name": "stdout",
     "output_type": "stream",
     "text": [
      "[[ 1.99500582]\n",
      " [-2.99329431]] [4.34066532]\n"
     ]
    }
   ],
   "source": [
    "# We print the weights and the biases, so we can see if they have converged to what we wanted.\n",
    "# When declared the targets, following the f(x,z), we knew the weights should be 2 and -3, while the bias: 5.\n",
    "print (weights, biases)\n",
    "\n",
    "# Note that they may be converging. So more iterations are needed."
   ]
  },
  {
   "cell_type": "markdown",
   "metadata": {},
   "source": [
    "### Plot last outputs vs targets\n",
    "The last ones at the end of the training represent the final model accuracy. <br/>\n",
    "The closer this plot is to a 45 degree line, the closer target and output values are."
   ]
  },
  {
   "cell_type": "code",
   "execution_count": 12,
   "metadata": {
    "collapsed": false
   },
   "outputs": [
    {
     "data": {
      "image/png": "[encoded data removed]",
      "text/plain": [
       "<Figure size 432x288 with 1 Axes>"
      ]
     },
     "metadata": {
      "needs_background": "light"
     },
     "output_type": "display_data"
    }
   ],
   "source": [
    "plt.plot(outputs,targets)\n",
    "plt.xlabel('outputs')\n",
    "plt.ylabel('targets')\n",
    "plt.show()"
   ]
  }
 ],
 "metadata": {
  "anaconda-cloud": {},
  "kernelspec": {
   "display_name": "Python 3.9.12 ('base')",
   "language": "python",
   "name": "python3"
  },
  "language_info": {
   "codemirror_mode": {
    "name": "ipython",
    "version": 3
   },
   "file_extension": ".py",
   "mimetype": "text/x-python",
   "name": "python",
   "nbconvert_exporter": "python",
   "pygments_lexer": "ipython3",
   "version": "3.9.12"
  },
  "vscode": {
   "interpreter": {
    "hash": "ca02d05c83cb06a4d3d1bb3c2ad95bd9ee4b26f688526444572dc942a69d580d"
   }
  }
 },
 "nbformat": 4,
 "nbformat_minor": 1
}
